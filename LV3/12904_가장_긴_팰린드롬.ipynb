{
 "cells": [
  {
   "cell_type": "markdown",
   "id": "777742f6",
   "metadata": {},
   "source": [
    "## List 차이\n",
    "    | https://velog.io/@ayoung0073/python-list"
   ]
  },
  {
   "cell_type": "code",
   "execution_count": 11,
   "id": "5fccb00b",
   "metadata": {},
   "outputs": [],
   "source": [
    "s = \"aba\"\n",
    "len_s = len(s)\n",
    "dp1 = [[0]*len_s]*len_s\n",
    "dp2 = [[0 for _ in range(len_s)] for _ in range(len_s)]"
   ]
  },
  {
   "cell_type": "code",
   "execution_count": 7,
   "id": "69f76e79",
   "metadata": {},
   "outputs": [
    {
     "name": "stdout",
     "output_type": "stream",
     "text": [
      "[[0, 0, 0], [0, 0, 0], [0, 0, 0]]\n",
      "[[0, 0, 0], [0, 0, 0], [0, 0, 0]]\n"
     ]
    }
   ],
   "source": [
    "print(dp1)\n",
    "print(dp2)"
   ]
  },
  {
   "cell_type": "code",
   "execution_count": 8,
   "id": "f1ca7fda",
   "metadata": {},
   "outputs": [],
   "source": [
    "dp1[0][0] = 1\n",
    "dp2[0][0] = 1"
   ]
  },
  {
   "cell_type": "code",
   "execution_count": 10,
   "id": "7c8957ed",
   "metadata": {},
   "outputs": [
    {
     "name": "stdout",
     "output_type": "stream",
     "text": [
      "dp1 [[1, 0, 0], [1, 0, 0], [1, 0, 0]]\n",
      "dp2 [[1, 0, 0], [0, 0, 0], [0, 0, 0]]\n"
     ]
    }
   ],
   "source": [
    "print(\"dp1\", dp1)\n",
    "print(\"dp2\", dp2)"
   ]
  },
  {
   "cell_type": "markdown",
   "id": "64ad06b4",
   "metadata": {},
   "source": [
    "dp1의 경우 len_s개의 [0] * len_s는 모두 같은 객체로 인식"
   ]
  },
  {
   "cell_type": "markdown",
   "id": "f420ad2c",
   "metadata": {},
   "source": [
    "## 반복문"
   ]
  },
  {
   "cell_type": "code",
   "execution_count": 14,
   "id": "231dd52f",
   "metadata": {},
   "outputs": [
    {
     "name": "stdout",
     "output_type": "stream",
     "text": [
      "[[1, 0, 0], [0, 1, 0], [0, 0, 1]]\n"
     ]
    }
   ],
   "source": [
    "for i in range(len_s):\n",
    "    dp2[i][i] = 1\n",
    "    answer = 1\n",
    "\n",
    "for i in range(len_s - 1):\n",
    "    if s[i] == s[i + 1]:\n",
    "        dp2[i][i+1] = 1\n",
    "\n",
    "print(dp2)"
   ]
  },
  {
   "cell_type": "code",
   "execution_count": 15,
   "id": "8fba13e2",
   "metadata": {},
   "outputs": [
    {
     "name": "stdout",
     "output_type": "stream",
     "text": [
      "[[1, 0, 0], [0, 1, 0], [0, 0, 1]]\n"
     ]
    }
   ],
   "source": [
    "for i in range(len_s):\n",
    "    dp2[i][i] = 1\n",
    "    answer = 1\n",
    "    if i + 1 == len_s: break\n",
    "    if s[i] == s[i + 1]:\n",
    "        dp2[i][i + 1]\n",
    "\n",
    "print(dp2)"
   ]
  },
  {
   "cell_type": "code",
   "execution_count": null,
   "id": "6695f872",
   "metadata": {},
   "outputs": [],
   "source": []
  }
 ],
 "metadata": {
  "kernelspec": {
   "display_name": "Python 3 (ipykernel)",
   "language": "python",
   "name": "python3"
  },
  "language_info": {
   "codemirror_mode": {
    "name": "ipython",
    "version": 3
   },
   "file_extension": ".py",
   "mimetype": "text/x-python",
   "name": "python",
   "nbconvert_exporter": "python",
   "pygments_lexer": "ipython3",
   "version": "3.9.6"
  }
 },
 "nbformat": 4,
 "nbformat_minor": 5
}
