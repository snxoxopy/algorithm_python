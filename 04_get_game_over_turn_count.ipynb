{
 "cells": [
  {
   "cell_type": "markdown",
   "id": "referenced-humanity",
   "metadata": {},
   "source": [
    "#체스 게임"
   ]
  },
  {
   "cell_type": "markdown",
   "id": "configured-craft",
   "metadata": {},
   "source": [
    "<p> 설명)\n",
    "크기가 NxN인 체스판에서 사용하는 말의 개수는 K개이다.\n",
    "말은 원판 모양이고, 하나의 말 위에 다른 말을 올릴 수 있다.\n",
    "체스판의 각 칸은 흰색, 빨간색, 파란색 중 하나로 색칠되어있다.\n",
    "게임은 체스판 위에 말 K개를 놓고 시작한다.\n",
    "말은 1번부터 K번까지 번호가 매겨져 있고, 이동 방향도 미리 정해져 있다.\n",
    "이동 방향은 위, 아래, 왼쪽, 오른쪽 4가지 중 하나이다.\n",
    "턴 한 번은 1번 말 부터 K번 말까지 순서대로 이동시키는 것이다.\n",
    "한 말이 이동할 때 위에 올려져 있는 말도 함께 이동한다.\n",
    "말이 이동 방향에 있는 칸에 따라서 말의 이동이 다르며 아래와 같다.\n",
    "턴이 진행되던 중에 말이 4개 이상 쌓이는 순간 게임이 종료된다. </p>\n",
    "\n",
    "<p>1) 흰색 칸으로 이동하는 경우</p>\n",
    "<p>해당 흰색 칸으로 이동한다.</p>    \n",
    "<p>A번 말이 이동하려는 칸에 말이 이미 있는 경우에는 가장 위에 A번 말을 올려 놓는다.</p>    \n",
    "<p>2) 빨간색 칸으로 이동하는 경우</p>\n",
    "<p>A번 말과 그 위에 있는 모든 말의 쌓여있는 순서를 반대로 바꾼다.</p>\n",
    "<p>3) 파란색 칸으로 이동하는 경우</p>\n",
    "<p>A번 말의 이동 방향을 반대로 하고 한칸 이동한다.</p>\n",
    "<p>방향을 반대로 바꾼 후에 이동하려는 칸이 파란색인 경우에는 이동하지 않고 가만히 있는다.</p>\n",
    "<p>4) 체스판을 벗어나는 경우는 파란색 칸과 같은 경우이다.</p>"
   ]
  },
  {
   "cell_type": "markdown",
   "id": "advanced-attendance",
   "metadata": {},
   "source": [
    "<p>문제) 체스판의 크기와 말의 위치, 이동 방향이 모두 주어졌을 때,\n",
    "게임이 종료되는 턴의 번호를 반환하시오.\n",
    "그 값이 1000보다 크거나 절대로 게임이 종료되지 않을 경우에는 -1을 반환한다.</p>\n",
    "\n",
    "<p>입력) 각 정수는 칸의 색을 의미한다.</p>\n",
    "<p>0 = 흰색, 1 = 빨간색, 2 = 파란색</p>\n",
    "<p>말의 정보 = [행, 열의 인덱스, 이동방향]</p>\n",
    "<p>이동 방향 = [→, ←, ↑, ↓]</p>"
   ]
  },
  {
   "cell_type": "code",
   "execution_count": 1,
   "id": "hydraulic-hollywood",
   "metadata": {},
   "outputs": [],
   "source": [
    "k = 4  # 말의 개수\n",
    "chess_map = [\n",
    "    [0, 0, 0, 0],\n",
    "    [0, 0, 0, 0],\n",
    "    [0, 0, 0, 0],\n",
    "    [0, 0, 0, 0]\n",
    "]\n",
    "#[행, 열, 이동방향]\n",
    "start_horse_location_and_directions = [\n",
    "    [0, 0, 0],\n",
    "    [0, 1, 0],\n",
    "    [0, 2, 0],\n",
    "    [2, 2, 2]\n",
    "]\n",
    "# 동 서 북 남\n",
    "# →, ←, ↑, ↓\n",
    "dr = [0, 0, -1, 1]\n",
    "dc = [1, -1, 0, 0]"
   ]
  },
  {
   "cell_type": "code",
   "execution_count": 2,
   "id": "vital-clothing",
   "metadata": {},
   "outputs": [],
   "source": [
    "def get_d_index_when_go_back(d):\n",
    "    if d % 2 == 0:\n",
    "        return d+1\n",
    "    else:\n",
    "        return d-1"
   ]
  },
  {
   "cell_type": "markdown",
   "id": "absent-provision",
   "metadata": {},
   "source": [
    "<p>반대로 가야하는 경우</p>\n",
    "<p>d(0) -> d(1)</p>\n",
    "<p>d(1) -> d(0)</p>\n",
    "<p>d(2) -> d(3)</p>\n",
    "<p>d(3) -> d(2)</p>\n",
    "<p>규칙</p>\n",
    "<p>d(홀수) -> d(홀수-1)</p>\n",
    "<p>d(짝수) -> d(짝수+1)</p>"
   ]
  },
  {
   "cell_type": "code",
   "execution_count": 3,
   "id": "worse-greene",
   "metadata": {},
   "outputs": [],
   "source": [
    "def get_game_over_turn_count(horse_count, game_map, horse_location_and_directions):\n",
    "    n = len(chess_map)\n",
    "    cur_stacked_horse_map = [\n",
    "        [\n",
    "            [] for _ in range(n)\n",
    "        ] for _ in range(n)\n",
    "    ]\n",
    "    print(cur_stacked_horse_map)\n",
    "    for i in range(horse_count):\n",
    "        r, c, d = horse_location_and_directions[i]\n",
    "        cur_stacked_horse_map[r][c].append(i)\n",
    "    \n",
    "    turn_cnt = 1\n",
    "    \n",
    "    while turn_cnt <= 1000:\n",
    "        for horse_idx in range(horse_count):\n",
    "            r, c, d = horse_location_and_directions[horse_idx]\n",
    "            new_r = r + dr[d]\n",
    "            new_c = c + dc[d]\n",
    "            \n",
    "            #파란색 이거나 범위를 벗어남\n",
    "            if not 0 <= new_r < n or not 0 <= new_c < n or game_map[new_r][new_c] == 2:\n",
    "                new_d = get_d_index_when_go_back(d)\n",
    "                \n",
    "                horse_location_and_directions[horse_idx][2] = new_d\n",
    "                new_r = r + dr[new_d]\n",
    "                new_c = c + dc[new_d]\n",
    "                \n",
    "                #막히면 안감\n",
    "                if not 0 <= new_r < n or not 0 <= new_c < n or game_map[new_r][new_c] == 2:\n",
    "                    continue\n",
    "            \n",
    "            mv_horse_idx_arr = []\n",
    "            \n",
    "            for i in range(len(cur_stacked_horse_map[r][c])):\n",
    "                cur_stacked_horse_idx = cur_stacked_horse_map[r][c][i]\n",
    "                #이동해야 하는 말 = 현재 옮기는 말 위의 말들\n",
    "                if horse_idx == cur_stacked_horse_idx:\n",
    "                    mv_horse_idx_arr = cur_stacked_horse_map[r][c][i:]\n",
    "                    cur_stacked_horse_map[r][c] = cur_stacked_horse_map[r][c][:i]\n",
    "                    break\n",
    "            \n",
    "            #빨간색인 경우\n",
    "            if game_map[new_r][new_c] == 1:\n",
    "                mv_horse_idx_arr = reversed(mv_horse_idx_arr)\n",
    "            \n",
    "            #새롭게 이동할 map에 말들을 쌓는다. 또한, 현재 말들의 위치도 업데이트\n",
    "            for mv_horse_idx in mv_horse_idx_arr:\n",
    "                cur_stacked_horse_map[new_r][new_c].append(mv_horse_idx)\n",
    "                horse_location_and_directions[mv_horse_idx][0], horse_location_and_directions[mv_horse_idx][1] = new_r, new_c\n",
    "            \n",
    "            if len(cur_stacked_horse_map[new_r][new_c]) >= 4:\n",
    "                return turn_cnt\n",
    "            \n",
    "        turn_cnt += 1\n",
    "    return -1"
   ]
  },
  {
   "cell_type": "code",
   "execution_count": 4,
   "id": "marked-infection",
   "metadata": {
    "scrolled": true
   },
   "outputs": [
    {
     "name": "stdout",
     "output_type": "stream",
     "text": [
      "[[[], [], [], []], [[], [], [], []], [[], [], [], []], [[], [], [], []]]\n",
      "2\n"
     ]
    }
   ],
   "source": [
    "print(get_game_over_turn_count(k, chess_map, start_horse_location_and_directions))  # 2가 반환 되어야합니다"
   ]
  },
  {
   "cell_type": "code",
   "execution_count": null,
   "id": "scenic-standard",
   "metadata": {},
   "outputs": [],
   "source": [
    "!move C:\\_Algorithm\\Exercise\\04_get_game_over_turn_count.ipynb"
   ]
  }
 ],
 "metadata": {
  "kernelspec": {
   "display_name": "Python 3",
   "language": "python",
   "name": "python3"
  },
  "language_info": {
   "codemirror_mode": {
    "name": "ipython",
    "version": 3
   },
   "file_extension": ".py",
   "mimetype": "text/x-python",
   "name": "python",
   "nbconvert_exporter": "python",
   "pygments_lexer": "ipython3",
   "version": "3.7.2"
  }
 },
 "nbformat": 4,
 "nbformat_minor": 5
}
