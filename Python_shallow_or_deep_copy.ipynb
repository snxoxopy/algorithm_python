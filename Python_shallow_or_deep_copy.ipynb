{
 "cells": [
  {
   "cell_type": "code",
   "execution_count": 21,
   "id": "short-oliver",
   "metadata": {},
   "outputs": [
    {
     "name": "stdout",
     "output_type": "stream",
     "text": [
      "Hello, snoxox.py here!\n"
     ]
    }
   ],
   "source": [
    "print(\"Hello, snoxox.py here!\")"
   ]
  },
  {
   "cell_type": "markdown",
   "id": "complex-success",
   "metadata": {},
   "source": [
    "# # Let's get started to make list A and list B"
   ]
  },
  {
   "cell_type": "code",
   "execution_count": 3,
   "id": "allied-reputation",
   "metadata": {},
   "outputs": [
    {
     "name": "stdout",
     "output_type": "stream",
     "text": [
      "[1, 2, 3, 4]\n"
     ]
    }
   ],
   "source": [
    "a = [1, 2, 3 ,4]\n",
    "b = a\n",
    "print(b)"
   ]
  },
  {
   "cell_type": "markdown",
   "id": "equivalent-gibson",
   "metadata": {},
   "source": [
    "That was a simple copy and I'll change an element of b."
   ]
  },
  {
   "cell_type": "code",
   "execution_count": 4,
   "id": "suitable-peace",
   "metadata": {},
   "outputs": [
    {
     "name": "stdout",
     "output_type": "stream",
     "text": [
      "[1, 2, 100, 4]\n"
     ]
    }
   ],
   "source": [
    "b[2] = 100\n",
    "print(b)"
   ]
  },
  {
   "cell_type": "markdown",
   "id": "endless-flower",
   "metadata": {},
   "source": [
    "As you can see, the 3rd element turned into 3.Then, let's have a look the list of 'a'"
   ]
  },
  {
   "cell_type": "code",
   "execution_count": 5,
   "id": "mounted-qualification",
   "metadata": {},
   "outputs": [
    {
     "name": "stdout",
     "output_type": "stream",
     "text": [
      "[1, 2, 100, 4]\n"
     ]
    }
   ],
   "source": [
    "print(a)"
   ]
  },
  {
   "cell_type": "markdown",
   "id": "pending-speed",
   "metadata": {},
   "source": [
    "The 3rd element turned into 3 as well. That is, List b follows the same address of List 'a', and vice versa.\n",
    "When we don't want to happen in this way, however, what we would do for changing only the element of the list 'b'?"
   ]
  },
  {
   "cell_type": "code",
   "execution_count": 17,
   "id": "colonial-demographic",
   "metadata": {},
   "outputs": [
    {
     "name": "stdout",
     "output_type": "stream",
     "text": [
      "[1, [1, 2, 3]] shllw_b\n",
      "[100, [1, 2, 3]] shllw_b[0] was modified\n",
      "[1, [1, 2, 3]] shllw_a\n"
     ]
    }
   ],
   "source": [
    "import copy\n",
    "shllw_a = [1, [1, 2, 3]]\n",
    "shllw_b = copy.copy(shllw_a)\n",
    "print(shllw_b, 'shllw_b')\n",
    "shllw_b[0] = 100\n",
    "print(shllw_b, 'shllw_b[0] was modified')\n",
    "print(shllw_a, 'shllw_a')"
   ]
  },
  {
   "cell_type": "markdown",
   "id": "interpreted-brand",
   "metadata": {},
   "source": [
    "Now, the first element turned into 100, and it doesn't have any impact on List shllow_a. That is, List shllw_b is a different object from List shllw_a. When it is used to add a new element, it could be chagned, though. Here're List c."
   ]
  },
  {
   "cell_type": "code",
   "execution_count": 18,
   "id": "freelance-burton",
   "metadata": {},
   "outputs": [
    {
     "name": "stdout",
     "output_type": "stream",
     "text": [
      "shllw_c [1, [1, 2, 3, 4]]\n",
      "shllw_a [1, [1, 2, 3, 4]]\n"
     ]
    }
   ],
   "source": [
    "shllw_c = copy.copy(shllw_a)\n",
    "shllw_c[1].append(4)\n",
    "print('shllw_c', shllw_c)\n",
    "print('shllw_a', shllw_a)"
   ]
  },
  {
   "cell_type": "markdown",
   "id": "affecting-scanning",
   "metadata": {},
   "source": [
    "The reason why List shllw_a contains a new element is shallow copy doesn't duplicate every single inner list which I called element as an object."
   ]
  },
  {
   "cell_type": "code",
   "execution_count": 20,
   "id": "rental-pressure",
   "metadata": {},
   "outputs": [
    {
     "name": "stdout",
     "output_type": "stream",
     "text": [
      "dp_b [1, [1, 2, 3]]\n",
      "dp_b [100, [1, 2, 3, 4]]\n",
      "dp_a [1, [1, 2, 3]]\n"
     ]
    }
   ],
   "source": [
    "dp_a = [1,[1,2,3]]\n",
    "dp_b = copy.deepcopy(dp_a)\n",
    "print('dp_b', dp_b)\n",
    "dp_b[0] = 100\n",
    "dp_b[1].append(4)\n",
    "print('dp_b',dp_b)\n",
    "print('dp_a',dp_a)"
   ]
  },
  {
   "cell_type": "markdown",
   "id": "daily-labor",
   "metadata": {},
   "source": [
    "Finally, we got a new object which is sparated from the original list by using a function of deepcopy."
   ]
  },
  {
   "cell_type": "code",
   "execution_count": null,
   "id": "intense-colleague",
   "metadata": {},
   "outputs": [],
   "source": []
  }
 ],
 "metadata": {
  "kernelspec": {
   "display_name": "Python 3",
   "language": "python",
   "name": "python3"
  },
  "language_info": {
   "codemirror_mode": {
    "name": "ipython",
    "version": 3
   },
   "file_extension": ".py",
   "mimetype": "text/x-python",
   "name": "python",
   "nbconvert_exporter": "python",
   "pygments_lexer": "ipython3",
   "version": "3.7.2"
  }
 },
 "nbformat": 4,
 "nbformat_minor": 5
}
